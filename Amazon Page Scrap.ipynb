{
 "cells": [
  {
   "cell_type": "code",
   "execution_count": 1,
   "metadata": {},
   "outputs": [],
   "source": [
    "# import libraries \n",
    "\n",
    "from bs4 import BeautifulSoup\n",
    "import requests\n",
    "import time\n",
    "import datetime\n",
    "\n",
    "import smtplib\n"
   ]
  },
  {
   "cell_type": "code",
   "execution_count": 2,
   "metadata": {},
   "outputs": [],
   "source": [
    "#create the function\n",
    "\n",
    "def check():\n",
    "\n",
    "    # let's connect to the website and pull the data\n",
    "    URL=\"https://www.amazon.com/DEWALT-Cordless-Batteries-Included-DCK277D2/dp/B0C3PQHGR7/?_encoding=UTF8&pd_rd_w=4yMV9&content-id=amzn1.sym.4bba068a-9322-4692-abd5-0bbe652907a9&pf_rd_p=4bba068a-9322-4692-abd5-0bbe652907a9&pf_rd_r=KB123PQQ7GD24DT6XVBR&pd_rd_wg=kMO0p&pd_rd_r=ae3ad326-a94f-4771-9d9e-a4ac722f86a0&ref_=pd_hp_d_btf_nta-top-picks\"\n",
    "    #provide the endpoint to test your GET requests using your system\n",
    "    headers={\"User-Agent\": \"Mozilla/5.0 (Windows NT 10.0; Win64; x64) AppleWebKit/537.36 (KHTML, like Gecko) Chrome/131.0.0.0 Safari/537.36\"}\n",
    "\n",
    "    #start getting the data\n",
    "    page= requests.get(URL, headers=headers)\n",
    "\n",
    "    #use the soup library to get the HTML of the URL\n",
    "    soup1= BeautifulSoup(page.content, \"html.parser\")\n",
    "\n",
    "    #align the text strutures properly\n",
    "    soup2= BeautifulSoup(soup1.prettify(),\"html.parser\")\n",
    "\n",
    "    #get the title and price\n",
    "    title = soup2.find('span', {'id': 'productTitle'}).get_text(strip=True)\n",
    "    price = soup2.find('span',{'class':'a-price-whole'}).get_text(strip=True)\n",
    "\n",
    "    #create a datetime for the  data\n",
    "\n",
    "    import datetime\n",
    "    today= datetime.date.today()\n",
    "\n",
    "    #create a CSV file and write the data into it\n",
    "    #make use of a list because the title is a string\n",
    "    import csv\n",
    "\n",
    "    data = [title, price, today]\n",
    "\n",
    "    #w means to write\n",
    "    #newline means that each data is sepearted in a col belo another; else, it'll be written in one line\n",
    "    #encoding means that the file accepts differnt kinds of emoji,chararcters, texts, etc\n",
    "    with open(\"Amazon.csv\", \"a+\", newline=\"\", encoding=\"UTF8\") as f:\n",
    "        writer=csv.writer(f)\n",
    "    # create the csv and insert the header and data   \n",
    "        writer.writerow(data)\n",
    "\n",
    "    #import the function to track it even while we sleep\n",
    "        while(True):\n",
    "            check()\n",
    "            time.sleep(2)\n",
    "        "
   ]
  },
  {
   "cell_type": "code",
   "execution_count": 3,
   "metadata": {},
   "outputs": [
    {
     "name": "stdout",
     "output_type": "stream",
     "text": [
      "                                               Title  Price        Date\n",
      "0  DEWALT 20V MAX Cordless Drill, Impact Driver, ...  149.0  2024-12-24\n",
      "1  DEWALT 20V MAX Cordless Drill, Impact Driver, ...  149.0  2024-12-24\n",
      "2  DEWALT 20V MAX Cordless Drill, Impact Driver, ...  149.0  2024-12-24\n",
      "3  DEWALT 20V MAX Cordless Drill, Impact Driver, ...  149.0  2024-12-24\n",
      "4  DEWALT 20V MAX Cordless Drill, Impact Driver, ...  149.0  2024-12-24\n",
      "5  DEWALT 20V MAX Cordless Drill, Impact Driver, ...  149.0  2024-12-24\n",
      "6  DEWALT 20V MAX Cordless Drill, Impact Driver, ...  149.0  2024-12-24\n"
     ]
    }
   ],
   "source": [
    " #import the pandas and co.\n",
    "import pandas as pd\n",
    "\n",
    "df= pd.read_csv(\"Amazon.csv\")\n",
    "print(df)\n"
   ]
  },
  {
   "cell_type": "code",
   "execution_count": 4,
   "metadata": {},
   "outputs": [],
   "source": [
    "# If uou want to try sending yourself an email (just for fun) when a price hits below a certain level you can try it\n",
    "# out with this script\n",
    "\n",
    "def send_mail():\n",
    "    server = smtplib.SMTP_SSL('smtp.gmail.com',465)\n",
    "    server.ehlo()\n",
    "    #server.starttls()\n",
    "    server.ehlo()\n",
    "    server.login('Aniboy188@gmail.com','#######')\n",
    "    \n",
    "    subject = \"The Shirt you want is below $15! Now is your chance to buy!\"\n",
    "    body = \"Hi Ani, This is the moment we have been waiting for. Now is your chance to pick up the shirt of your dreams. Don't mess it up! Link here: https://www.amazon.com/Funny-Data-Systems-Business-Analyst/dp/B07FNW9FGJ/ref=sr_1_3?dchild=1&keywords=data+analyst+tshirt&qid=1626655184&sr=8-3\"\n",
    "   \n",
    "    msg = f\"Subject: {subject}\\n\\n{body}\"\n",
    "    \n",
    "    server.sendmail(\n",
    "        'Aniboy188@gmail.com',\n",
    "        msg\n",
    "     \n",
    "    )"
   ]
  }
 ],
 "metadata": {
  "kernelspec": {
   "display_name": "Python 3",
   "language": "python",
   "name": "python3"
  },
  "language_info": {
   "codemirror_mode": {
    "name": "ipython",
    "version": 3
   },
   "file_extension": ".py",
   "mimetype": "text/x-python",
   "name": "python",
   "nbconvert_exporter": "python",
   "pygments_lexer": "ipython3",
   "version": "3.12.6"
  }
 },
 "nbformat": 4,
 "nbformat_minor": 2
}
